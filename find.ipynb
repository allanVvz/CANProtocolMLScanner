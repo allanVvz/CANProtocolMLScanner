{
 "cells": [
  {
   "cell_type": "code",
   "id": "initial_id",
   "metadata": {
    "collapsed": true,
    "ExecuteTime": {
     "end_time": "2024-09-27T13:58:26.366349Z",
     "start_time": "2024-09-27T13:58:23.894598Z"
    }
   },
   "source": [
    "import pickle\n",
    "from tkinter import filedialog, messagebox\n",
    "import numpy as np\n",
    "import pandas as pd\n",
    "from matplotlib import pyplot as plt\n",
    "\n",
    "\n",
    "def carregar_modelo(nome_arquivo):\n",
    "    try:\n",
    "        with open(nome_arquivo, 'rb') as arquivo:\n",
    "            model = pickle.load(arquivo)\n",
    "        print(f\"Modelo carregado com sucesso de {nome_arquivo}.\")\n",
    "        return model\n",
    "    except FileNotFoundError:\n",
    "        print(f\"Erro: O arquivo {nome_arquivo} não foi encontrado.\")\n",
    "        return None\n",
    "    except Exception as e:\n",
    "        print(f\"Erro ao carregar o modelo: {e}\")\n",
    "        return None"
   ],
   "outputs": [],
   "execution_count": 1
  },
  {
   "metadata": {
    "ExecuteTime": {
     "end_time": "2024-09-27T13:58:26.375841Z",
     "start_time": "2024-09-27T13:58:26.371247Z"
    }
   },
   "cell_type": "code",
   "source": [
    "# def analyse_archive(model, df):\n",
    "#     best_pgns = []\n",
    "# \n",
    "#     for pgn in df['pgn'].unique():  # Assumindo que 'pgn' é uma coluna que identifica cada sequência\n",
    "#         df_pgn = df[df['pgn'] == pgn].copy()  # Filtra o DataFrame para o pgn atual\n",
    "#         print(df_pgn.head())\n",
    "#         for i in range(8):  # Assumindo que cada dado tem 8 bytes\n",
    "#             byte_column = f'byte_{i}'\n",
    "# \n",
    "#             # Transformar a coluna de bytes em lista\n",
    "#             df_pgn[byte_column] = df_pgn['x'].apply(lambda x: int(x[i], 16))\n",
    "# \n",
    "#             # Obter valores de byte e processá-los\n",
    "#             X = df_pgn[byte_column].values\n",
    "#             if len(X) > 1:  # Garantir que temos dados suficientes e mais de uma classe\n",
    "#                 # Treinar o modelo para este byte específico\n",
    "#                 y_pred = model.predict(X)\n",
    "#                 # Armazenar os melhores pgns\n",
    "#                 best_pgns.append((pgn, i, y_pred))\n",
    "# \n",
    "#     return best_pgns\n",
    "\n"
   ],
   "id": "d04613080d151708",
   "outputs": [],
   "execution_count": 2
  },
  {
   "metadata": {
    "ExecuteTime": {
     "end_time": "2024-09-27T13:58:26.688311Z",
     "start_time": "2024-09-27T13:58:26.681538Z"
    }
   },
   "cell_type": "code",
   "source": [
    "def process_data(hex_data):\n",
    "    # Verifica se a entrada é uma string\n",
    "    if isinstance(hex_data, str):\n",
    "        byte_list = hex_data.split(' ')\n",
    "\n",
    "        # Verifica se a lista contém exatamente 8 itens\n",
    "        if len(byte_list) < 8:\n",
    "            byte_list.extend(['00'] * (8 - len(byte_list)))\n",
    "\n",
    "        # Converte os valores de hexadecimal para decimal\n",
    "        byte_list = [int(byte, 16) for byte in byte_list]\n",
    "\n",
    "        # Converte a lista em um DataFrame com uma linha e 8 colunas\n",
    "        df = pd.DataFrame([byte_list])\n",
    "\n",
    "        return byte_list  # Retorna a lista para ser expandida em colunas\n",
    "    else:\n",
    "        raise ValueError(\"A entrada deve ser uma string hexadecimal.\")\n"
   ],
   "id": "c3599f99469c8cd4",
   "outputs": [],
   "execution_count": 3
  },
  {
   "metadata": {
    "ExecuteTime": {
     "end_time": "2024-09-27T13:58:26.706421Z",
     "start_time": "2024-09-27T13:58:26.701348Z"
    }
   },
   "cell_type": "code",
   "source": [
    "def fileToDataframe(file_path):\n",
    "    df = pd.read_csv(file_path, sep=';', quotechar='\"', skiprows=6)\n",
    "    df = df.dropna(subset=['Data (hex)'])\n",
    "    df['Identifier (hex)'] = df['Identifier (hex)'].apply(lambda x: int(x, 16))\n",
    "\n",
    "    byte_columns = df['Data (hex)'].apply(process_data)\n",
    "    \n",
    "    byte_columns = pd.DataFrame(byte_columns.tolist(), index=df.index, columns=[f'byte_{i + 1}' for i in range(8)])\n",
    "    print(byte_columns)\n",
    "    columns_to_drop = ['Format', 'Flags', 'Time', 'Data (hex)']\n",
    "    df = df.drop(columns=[col for col in columns_to_drop if col in df.columns])\n",
    "    df = pd.concat([df, byte_columns], axis=1)\n",
    "    df = df.rename(columns={'Identifier (hex)': 'pgn'})\n",
    "    return df"
   ],
   "id": "6a682d0c92ae0f1f",
   "outputs": [],
   "execution_count": 4
  },
  {
   "metadata": {
    "ExecuteTime": {
     "end_time": "2024-09-27T13:58:26.720544Z",
     "start_time": "2024-09-27T13:58:26.715638Z"
    }
   },
   "cell_type": "code",
   "source": [
    "def ui_load_ixxt_archive(file_path):\n",
    "    # Se o caminho não for fornecido, abrir a caixa de diálogo para selecionar o arquivo\n",
    "    if not file_path:\n",
    "        file_path = filedialog.askopenfilename(\n",
    "            title=\"Selecione o arquivo CSV\",\n",
    "            filetypes=((\"CSV files\", \"*.CSV\"), (\"all files\", \"*.*\"))\n",
    "        )\n",
    "    \n",
    "    # Verificar se o caminho foi fornecido ou selecionado\n",
    "    if file_path:\n",
    "        df = fileToDataframe(file_path)  # Simulação do carregamento de dados\n",
    "        return df\n",
    "    else:\n",
    "        print(\"Nenhum arquivo foi selecionado.\")\n",
    "        return None"
   ],
   "id": "be2659468639d3d0",
   "outputs": [],
   "execution_count": 5
  },
  {
   "metadata": {
    "ExecuteTime": {
     "end_time": "2024-09-27T13:58:26.736048Z",
     "start_time": "2024-09-27T13:58:26.729513Z"
    }
   },
   "cell_type": "code",
   "source": [
    "def filtrar_dataframe(df, pgn, byte):\n",
    "\n",
    "    if df is None:\n",
    "        messagebox.showwarning(\"Aviso\", \"Carregue um arquivo primeiro.\")\n",
    "        return None\n",
    "\n",
    "    if pgn and byte:\n",
    "        try:\n",
    "            filtered_df = df[df['pgn'] == int(pgn, 16)]  # Se pgn for uma string hexadecimal\n",
    "\n",
    "            # Verificar se o byte filtrado existe\n",
    "            if byte in filtered_df.columns:\n",
    "                # Filtrar os valores do byte especificado que não são 'FF' (255 em decimal)\n",
    "                filtered_df = filtered_df[[byte]]\n",
    "                filtered_df = filtered_df[filtered_df[byte] != 255]\n",
    "                filtered_df = filtered_df.rename(columns={byte: 'x'})\n",
    "\n",
    "                if not filtered_df.empty:\n",
    "                    return filtered_df\n",
    "                else:\n",
    "                    messagebox.showinfo(\"Informação\", \"Nenhum valor diferente de FF encontrado após filtrar.\")\n",
    "                    return None\n",
    "            else:\n",
    "                messagebox.showinfo(\"Informação\", f\"A coluna {byte} não existe.\")\n",
    "                return None\n",
    "        except Exception as e:\n",
    "            messagebox.showerror(\"Erro\", f\"Erro ao aplicar filtros: {str(e)}\")\n",
    "            return None\n",
    "    else:\n",
    "        messagebox.showwarning(\"Aviso\", \"Preencha os campos de filtro antes de filtrar.\")\n",
    "        return None"
   ],
   "id": "9f9f44b56dc85879",
   "outputs": [],
   "execution_count": 6
  },
  {
   "metadata": {
    "ExecuteTime": {
     "end_time": "2024-09-27T13:58:26.788562Z",
     "start_time": "2024-09-27T13:58:26.745573Z"
    }
   },
   "cell_type": "code",
   "source": [
    "# Função para verificar se uma coluna tem valores constantes\n",
    "def coluna_eh_constante(coluna):\n",
    "    return len(np.unique(coluna)) == 1\n",
    "\n",
    "# Função para filtrar os dados pelo PGN e fazer as predições\n",
    "def analyse_archive(model, df):\n",
    "    best_pgns = []\n",
    "\n",
    "    # Exibir as primeiras linhas do DataFrame para verificar a estrutura\n",
    "    print(\"Primeiras linhas do DataFrame:\")\n",
    "    print(df.head())\n",
    "\n",
    "    # Iterar sobre cada PGN único no DataFrame\n",
    "    for pgn in df['pgn'].unique():\n",
    "        df_pgn = df[df['pgn'] == pgn].copy()  # Filtrar o DataFrame para o PGN atual\n",
    "        \n",
    "        print(f\"\\nAnalisando PGN: {pgn}\")\n",
    "        print(\"Primeiras linhas do DataFrame para este PGN:\")\n",
    "        print(df_pgn.head())  # Exibir o DataFrame filtrado por PGN\n",
    "\n",
    "        # Criar uma lista para armazenar os bytes como arrays\n",
    "        byte_arrays = []\n",
    "        \n",
    "        # Iterar sobre as colunas de bytes (de 'byte_1' até 'byte_8')\n",
    "        for i in range(1, 9):  # Para os bytes de 1 a 8\n",
    "            byte_column = f'byte_{i}'  # Supondo que os bytes estão nomeados como byte_1, byte_2, ..., byte_8\n",
    "            \n",
    "            # Verificar se a coluna tem valores constantes e descartar se tiver\n",
    "            if coluna_eh_constante(df_pgn[byte_column]):\n",
    "                print(f\"{byte_column} descartada por ser constante.\")\n",
    "                continue\n",
    "            \n",
    "            print(f\"Processando {byte_column}\")\n",
    "            \n",
    "            # Obter os valores de cada byte e adicionar ao array\n",
    "            X = df_pgn[byte_column].values\n",
    "            print(f\"Valores de {byte_column}: {X[:100]}\")  # Exibir os primeiros 5 valores da coluna\n",
    "            \n",
    "            if len(X) > 1:  # Garantir que temos dados suficientes\n",
    "                byte_arrays.append(X)\n",
    "        \n",
    "        # Converter os bytes para um formato que o modelo pode usar (array 2D)\n",
    "        if byte_arrays:  # Garantir que há bytes para processar\n",
    "            byte_array = np.array(byte_arrays).T  # Transpor para ajustar a forma correta (cada linha é uma sequência de bytes)\n",
    "        \n",
    "            print(\"Matriz de bytes para predição:\")\n",
    "            print(byte_array[:10, :])  # Mostrar as primeiras 5 sequências de bytes para o modelo\n",
    "        \n",
    "            # Fazer predições para as sequências de bytes\n",
    "            y_pred = model.predict(byte_array)\n",
    "            \n",
    "            print(f\"Predições para PGN {pgn}: {y_pred[:5]}\")  # Exibir as primeiras 5 predições\n",
    "            \n",
    "            # Armazenar os melhores PGNs com base nas predições (exemplo: guardar os PGNs com predições positivas)\n",
    "            if np.any(y_pred > 0.95):  # Exemplo: considera PGNs onde há predição positiva\n",
    "                best_pgns.append((pgn, y_pred))\n",
    "    \n",
    "    print(\"\\nMelhores PGNs (com predição positiva):\")\n",
    "    print(best_pgns)  # Exibir os melhores PGNs e suas predições\n",
    "    \n",
    "    return best_pgns"
   ],
   "id": "c5329cf95bda2d6b",
   "outputs": [],
   "execution_count": 7
  },
  {
   "metadata": {
    "ExecuteTime": {
     "end_time": "2024-09-27T13:58:28.993501Z",
     "start_time": "2024-09-27T13:58:26.833556Z"
    }
   },
   "cell_type": "code",
   "source": [
    "df = ui_load_ixxt_archive('CANProtocolMLScanner\\ freio_5x_1_logFile 2024\\limpador_vel1_5x_jumpy.CSV') \n",
    "\n",
    "model = carregar_modelo(\"meu_modelo.pkl\")\n",
    "\n",
    "best_pgns = analyse_archive(model, df)"
   ],
   "id": "d247e19856675255",
   "outputs": [
    {
     "name": "stderr",
     "output_type": "stream",
     "text": [
      "<>:1: SyntaxWarning: invalid escape sequence '\\ '\n",
      "<>:1: SyntaxWarning: invalid escape sequence '\\ '\n",
      "C:\\Users\\user\\AppData\\Local\\Temp\\ipykernel_10160\\660074850.py:1: SyntaxWarning: invalid escape sequence '\\ '\n",
      "  df = ui_load_ixxt_archive('CANProtocolMLScanner\\ freio_5x_1_logFile 2024\\limpador_vel1_5x_jumpy.CSV')\n",
      "C:\\Users\\user\\AppData\\Local\\Temp\\ipykernel_10160\\660074850.py:1: SyntaxWarning: invalid escape sequence '\\ '\n",
      "  df = ui_load_ixxt_archive('CANProtocolMLScanner\\ freio_5x_1_logFile 2024\\limpador_vel1_5x_jumpy.CSV')\n"
     ]
    },
    {
     "ename": "FileNotFoundError",
     "evalue": "[Errno 2] No such file or directory: 'CANProtocolMLScanner\\\\ freio_5x_1_logFile 2024\\\\limpador_vel1_5x_jumpy.CSV'",
     "output_type": "error",
     "traceback": [
      "\u001B[1;31m---------------------------------------------------------------------------\u001B[0m",
      "\u001B[1;31mFileNotFoundError\u001B[0m                         Traceback (most recent call last)",
      "Cell \u001B[1;32mIn[8], line 1\u001B[0m\n\u001B[1;32m----> 1\u001B[0m df \u001B[38;5;241m=\u001B[39m \u001B[43mui_load_ixxt_archive\u001B[49m\u001B[43m(\u001B[49m\u001B[38;5;124;43m'\u001B[39;49m\u001B[38;5;124;43mCANProtocolMLScanner\u001B[39;49m\u001B[38;5;124;43m\\\u001B[39;49m\u001B[38;5;124;43m freio_5x_1_logFile 2024\u001B[39;49m\u001B[38;5;124;43m\\\u001B[39;49m\u001B[38;5;124;43mlimpador_vel1_5x_jumpy.CSV\u001B[39;49m\u001B[38;5;124;43m'\u001B[39;49m\u001B[43m)\u001B[49m \n\u001B[0;32m      3\u001B[0m model \u001B[38;5;241m=\u001B[39m carregar_modelo(\u001B[38;5;124m\"\u001B[39m\u001B[38;5;124mmeu_modelo.pkl\u001B[39m\u001B[38;5;124m\"\u001B[39m)\n\u001B[0;32m      5\u001B[0m best_pgns \u001B[38;5;241m=\u001B[39m analyse_archive(model, df)\n",
      "Cell \u001B[1;32mIn[5], line 11\u001B[0m, in \u001B[0;36mui_load_ixxt_archive\u001B[1;34m(file_path)\u001B[0m\n\u001B[0;32m      9\u001B[0m \u001B[38;5;66;03m# Verificar se o caminho foi fornecido ou selecionado\u001B[39;00m\n\u001B[0;32m     10\u001B[0m \u001B[38;5;28;01mif\u001B[39;00m file_path:\n\u001B[1;32m---> 11\u001B[0m     df \u001B[38;5;241m=\u001B[39m \u001B[43mfileToDataframe\u001B[49m\u001B[43m(\u001B[49m\u001B[43mfile_path\u001B[49m\u001B[43m)\u001B[49m  \u001B[38;5;66;03m# Simulação do carregamento de dados\u001B[39;00m\n\u001B[0;32m     12\u001B[0m     \u001B[38;5;28;01mreturn\u001B[39;00m df\n\u001B[0;32m     13\u001B[0m \u001B[38;5;28;01melse\u001B[39;00m:\n",
      "Cell \u001B[1;32mIn[4], line 2\u001B[0m, in \u001B[0;36mfileToDataframe\u001B[1;34m(file_path)\u001B[0m\n\u001B[0;32m      1\u001B[0m \u001B[38;5;28;01mdef\u001B[39;00m \u001B[38;5;21mfileToDataframe\u001B[39m(file_path):\n\u001B[1;32m----> 2\u001B[0m     df \u001B[38;5;241m=\u001B[39m \u001B[43mpd\u001B[49m\u001B[38;5;241;43m.\u001B[39;49m\u001B[43mread_csv\u001B[49m\u001B[43m(\u001B[49m\u001B[43mfile_path\u001B[49m\u001B[43m,\u001B[49m\u001B[43m \u001B[49m\u001B[43msep\u001B[49m\u001B[38;5;241;43m=\u001B[39;49m\u001B[38;5;124;43m'\u001B[39;49m\u001B[38;5;124;43m;\u001B[39;49m\u001B[38;5;124;43m'\u001B[39;49m\u001B[43m,\u001B[49m\u001B[43m \u001B[49m\u001B[43mquotechar\u001B[49m\u001B[38;5;241;43m=\u001B[39;49m\u001B[38;5;124;43m'\u001B[39;49m\u001B[38;5;124;43m\"\u001B[39;49m\u001B[38;5;124;43m'\u001B[39;49m\u001B[43m,\u001B[49m\u001B[43m \u001B[49m\u001B[43mskiprows\u001B[49m\u001B[38;5;241;43m=\u001B[39;49m\u001B[38;5;241;43m6\u001B[39;49m\u001B[43m)\u001B[49m\n\u001B[0;32m      3\u001B[0m     df \u001B[38;5;241m=\u001B[39m df\u001B[38;5;241m.\u001B[39mdropna(subset\u001B[38;5;241m=\u001B[39m[\u001B[38;5;124m'\u001B[39m\u001B[38;5;124mData (hex)\u001B[39m\u001B[38;5;124m'\u001B[39m])\n\u001B[0;32m      4\u001B[0m     df[\u001B[38;5;124m'\u001B[39m\u001B[38;5;124mIdentifier (hex)\u001B[39m\u001B[38;5;124m'\u001B[39m] \u001B[38;5;241m=\u001B[39m df[\u001B[38;5;124m'\u001B[39m\u001B[38;5;124mIdentifier (hex)\u001B[39m\u001B[38;5;124m'\u001B[39m]\u001B[38;5;241m.\u001B[39mapply(\u001B[38;5;28;01mlambda\u001B[39;00m x: \u001B[38;5;28mint\u001B[39m(x, \u001B[38;5;241m16\u001B[39m))\n",
      "File \u001B[1;32mC:\\Repositórios\\CANProtocolMLScanner\\venv\\Lib\\site-packages\\pandas\\io\\parsers\\readers.py:1026\u001B[0m, in \u001B[0;36mread_csv\u001B[1;34m(filepath_or_buffer, sep, delimiter, header, names, index_col, usecols, dtype, engine, converters, true_values, false_values, skipinitialspace, skiprows, skipfooter, nrows, na_values, keep_default_na, na_filter, verbose, skip_blank_lines, parse_dates, infer_datetime_format, keep_date_col, date_parser, date_format, dayfirst, cache_dates, iterator, chunksize, compression, thousands, decimal, lineterminator, quotechar, quoting, doublequote, escapechar, comment, encoding, encoding_errors, dialect, on_bad_lines, delim_whitespace, low_memory, memory_map, float_precision, storage_options, dtype_backend)\u001B[0m\n\u001B[0;32m   1013\u001B[0m kwds_defaults \u001B[38;5;241m=\u001B[39m _refine_defaults_read(\n\u001B[0;32m   1014\u001B[0m     dialect,\n\u001B[0;32m   1015\u001B[0m     delimiter,\n\u001B[1;32m   (...)\u001B[0m\n\u001B[0;32m   1022\u001B[0m     dtype_backend\u001B[38;5;241m=\u001B[39mdtype_backend,\n\u001B[0;32m   1023\u001B[0m )\n\u001B[0;32m   1024\u001B[0m kwds\u001B[38;5;241m.\u001B[39mupdate(kwds_defaults)\n\u001B[1;32m-> 1026\u001B[0m \u001B[38;5;28;01mreturn\u001B[39;00m \u001B[43m_read\u001B[49m\u001B[43m(\u001B[49m\u001B[43mfilepath_or_buffer\u001B[49m\u001B[43m,\u001B[49m\u001B[43m \u001B[49m\u001B[43mkwds\u001B[49m\u001B[43m)\u001B[49m\n",
      "File \u001B[1;32mC:\\Repositórios\\CANProtocolMLScanner\\venv\\Lib\\site-packages\\pandas\\io\\parsers\\readers.py:620\u001B[0m, in \u001B[0;36m_read\u001B[1;34m(filepath_or_buffer, kwds)\u001B[0m\n\u001B[0;32m    617\u001B[0m _validate_names(kwds\u001B[38;5;241m.\u001B[39mget(\u001B[38;5;124m\"\u001B[39m\u001B[38;5;124mnames\u001B[39m\u001B[38;5;124m\"\u001B[39m, \u001B[38;5;28;01mNone\u001B[39;00m))\n\u001B[0;32m    619\u001B[0m \u001B[38;5;66;03m# Create the parser.\u001B[39;00m\n\u001B[1;32m--> 620\u001B[0m parser \u001B[38;5;241m=\u001B[39m \u001B[43mTextFileReader\u001B[49m\u001B[43m(\u001B[49m\u001B[43mfilepath_or_buffer\u001B[49m\u001B[43m,\u001B[49m\u001B[43m \u001B[49m\u001B[38;5;241;43m*\u001B[39;49m\u001B[38;5;241;43m*\u001B[39;49m\u001B[43mkwds\u001B[49m\u001B[43m)\u001B[49m\n\u001B[0;32m    622\u001B[0m \u001B[38;5;28;01mif\u001B[39;00m chunksize \u001B[38;5;129;01mor\u001B[39;00m iterator:\n\u001B[0;32m    623\u001B[0m     \u001B[38;5;28;01mreturn\u001B[39;00m parser\n",
      "File \u001B[1;32mC:\\Repositórios\\CANProtocolMLScanner\\venv\\Lib\\site-packages\\pandas\\io\\parsers\\readers.py:1620\u001B[0m, in \u001B[0;36mTextFileReader.__init__\u001B[1;34m(self, f, engine, **kwds)\u001B[0m\n\u001B[0;32m   1617\u001B[0m     \u001B[38;5;28mself\u001B[39m\u001B[38;5;241m.\u001B[39moptions[\u001B[38;5;124m\"\u001B[39m\u001B[38;5;124mhas_index_names\u001B[39m\u001B[38;5;124m\"\u001B[39m] \u001B[38;5;241m=\u001B[39m kwds[\u001B[38;5;124m\"\u001B[39m\u001B[38;5;124mhas_index_names\u001B[39m\u001B[38;5;124m\"\u001B[39m]\n\u001B[0;32m   1619\u001B[0m \u001B[38;5;28mself\u001B[39m\u001B[38;5;241m.\u001B[39mhandles: IOHandles \u001B[38;5;241m|\u001B[39m \u001B[38;5;28;01mNone\u001B[39;00m \u001B[38;5;241m=\u001B[39m \u001B[38;5;28;01mNone\u001B[39;00m\n\u001B[1;32m-> 1620\u001B[0m \u001B[38;5;28mself\u001B[39m\u001B[38;5;241m.\u001B[39m_engine \u001B[38;5;241m=\u001B[39m \u001B[38;5;28;43mself\u001B[39;49m\u001B[38;5;241;43m.\u001B[39;49m\u001B[43m_make_engine\u001B[49m\u001B[43m(\u001B[49m\u001B[43mf\u001B[49m\u001B[43m,\u001B[49m\u001B[43m \u001B[49m\u001B[38;5;28;43mself\u001B[39;49m\u001B[38;5;241;43m.\u001B[39;49m\u001B[43mengine\u001B[49m\u001B[43m)\u001B[49m\n",
      "File \u001B[1;32mC:\\Repositórios\\CANProtocolMLScanner\\venv\\Lib\\site-packages\\pandas\\io\\parsers\\readers.py:1880\u001B[0m, in \u001B[0;36mTextFileReader._make_engine\u001B[1;34m(self, f, engine)\u001B[0m\n\u001B[0;32m   1878\u001B[0m     \u001B[38;5;28;01mif\u001B[39;00m \u001B[38;5;124m\"\u001B[39m\u001B[38;5;124mb\u001B[39m\u001B[38;5;124m\"\u001B[39m \u001B[38;5;129;01mnot\u001B[39;00m \u001B[38;5;129;01min\u001B[39;00m mode:\n\u001B[0;32m   1879\u001B[0m         mode \u001B[38;5;241m+\u001B[39m\u001B[38;5;241m=\u001B[39m \u001B[38;5;124m\"\u001B[39m\u001B[38;5;124mb\u001B[39m\u001B[38;5;124m\"\u001B[39m\n\u001B[1;32m-> 1880\u001B[0m \u001B[38;5;28mself\u001B[39m\u001B[38;5;241m.\u001B[39mhandles \u001B[38;5;241m=\u001B[39m \u001B[43mget_handle\u001B[49m\u001B[43m(\u001B[49m\n\u001B[0;32m   1881\u001B[0m \u001B[43m    \u001B[49m\u001B[43mf\u001B[49m\u001B[43m,\u001B[49m\n\u001B[0;32m   1882\u001B[0m \u001B[43m    \u001B[49m\u001B[43mmode\u001B[49m\u001B[43m,\u001B[49m\n\u001B[0;32m   1883\u001B[0m \u001B[43m    \u001B[49m\u001B[43mencoding\u001B[49m\u001B[38;5;241;43m=\u001B[39;49m\u001B[38;5;28;43mself\u001B[39;49m\u001B[38;5;241;43m.\u001B[39;49m\u001B[43moptions\u001B[49m\u001B[38;5;241;43m.\u001B[39;49m\u001B[43mget\u001B[49m\u001B[43m(\u001B[49m\u001B[38;5;124;43m\"\u001B[39;49m\u001B[38;5;124;43mencoding\u001B[39;49m\u001B[38;5;124;43m\"\u001B[39;49m\u001B[43m,\u001B[49m\u001B[43m \u001B[49m\u001B[38;5;28;43;01mNone\u001B[39;49;00m\u001B[43m)\u001B[49m\u001B[43m,\u001B[49m\n\u001B[0;32m   1884\u001B[0m \u001B[43m    \u001B[49m\u001B[43mcompression\u001B[49m\u001B[38;5;241;43m=\u001B[39;49m\u001B[38;5;28;43mself\u001B[39;49m\u001B[38;5;241;43m.\u001B[39;49m\u001B[43moptions\u001B[49m\u001B[38;5;241;43m.\u001B[39;49m\u001B[43mget\u001B[49m\u001B[43m(\u001B[49m\u001B[38;5;124;43m\"\u001B[39;49m\u001B[38;5;124;43mcompression\u001B[39;49m\u001B[38;5;124;43m\"\u001B[39;49m\u001B[43m,\u001B[49m\u001B[43m \u001B[49m\u001B[38;5;28;43;01mNone\u001B[39;49;00m\u001B[43m)\u001B[49m\u001B[43m,\u001B[49m\n\u001B[0;32m   1885\u001B[0m \u001B[43m    \u001B[49m\u001B[43mmemory_map\u001B[49m\u001B[38;5;241;43m=\u001B[39;49m\u001B[38;5;28;43mself\u001B[39;49m\u001B[38;5;241;43m.\u001B[39;49m\u001B[43moptions\u001B[49m\u001B[38;5;241;43m.\u001B[39;49m\u001B[43mget\u001B[49m\u001B[43m(\u001B[49m\u001B[38;5;124;43m\"\u001B[39;49m\u001B[38;5;124;43mmemory_map\u001B[39;49m\u001B[38;5;124;43m\"\u001B[39;49m\u001B[43m,\u001B[49m\u001B[43m \u001B[49m\u001B[38;5;28;43;01mFalse\u001B[39;49;00m\u001B[43m)\u001B[49m\u001B[43m,\u001B[49m\n\u001B[0;32m   1886\u001B[0m \u001B[43m    \u001B[49m\u001B[43mis_text\u001B[49m\u001B[38;5;241;43m=\u001B[39;49m\u001B[43mis_text\u001B[49m\u001B[43m,\u001B[49m\n\u001B[0;32m   1887\u001B[0m \u001B[43m    \u001B[49m\u001B[43merrors\u001B[49m\u001B[38;5;241;43m=\u001B[39;49m\u001B[38;5;28;43mself\u001B[39;49m\u001B[38;5;241;43m.\u001B[39;49m\u001B[43moptions\u001B[49m\u001B[38;5;241;43m.\u001B[39;49m\u001B[43mget\u001B[49m\u001B[43m(\u001B[49m\u001B[38;5;124;43m\"\u001B[39;49m\u001B[38;5;124;43mencoding_errors\u001B[39;49m\u001B[38;5;124;43m\"\u001B[39;49m\u001B[43m,\u001B[49m\u001B[43m \u001B[49m\u001B[38;5;124;43m\"\u001B[39;49m\u001B[38;5;124;43mstrict\u001B[39;49m\u001B[38;5;124;43m\"\u001B[39;49m\u001B[43m)\u001B[49m\u001B[43m,\u001B[49m\n\u001B[0;32m   1888\u001B[0m \u001B[43m    \u001B[49m\u001B[43mstorage_options\u001B[49m\u001B[38;5;241;43m=\u001B[39;49m\u001B[38;5;28;43mself\u001B[39;49m\u001B[38;5;241;43m.\u001B[39;49m\u001B[43moptions\u001B[49m\u001B[38;5;241;43m.\u001B[39;49m\u001B[43mget\u001B[49m\u001B[43m(\u001B[49m\u001B[38;5;124;43m\"\u001B[39;49m\u001B[38;5;124;43mstorage_options\u001B[39;49m\u001B[38;5;124;43m\"\u001B[39;49m\u001B[43m,\u001B[49m\u001B[43m \u001B[49m\u001B[38;5;28;43;01mNone\u001B[39;49;00m\u001B[43m)\u001B[49m\u001B[43m,\u001B[49m\n\u001B[0;32m   1889\u001B[0m \u001B[43m\u001B[49m\u001B[43m)\u001B[49m\n\u001B[0;32m   1890\u001B[0m \u001B[38;5;28;01massert\u001B[39;00m \u001B[38;5;28mself\u001B[39m\u001B[38;5;241m.\u001B[39mhandles \u001B[38;5;129;01mis\u001B[39;00m \u001B[38;5;129;01mnot\u001B[39;00m \u001B[38;5;28;01mNone\u001B[39;00m\n\u001B[0;32m   1891\u001B[0m f \u001B[38;5;241m=\u001B[39m \u001B[38;5;28mself\u001B[39m\u001B[38;5;241m.\u001B[39mhandles\u001B[38;5;241m.\u001B[39mhandle\n",
      "File \u001B[1;32mC:\\Repositórios\\CANProtocolMLScanner\\venv\\Lib\\site-packages\\pandas\\io\\common.py:873\u001B[0m, in \u001B[0;36mget_handle\u001B[1;34m(path_or_buf, mode, encoding, compression, memory_map, is_text, errors, storage_options)\u001B[0m\n\u001B[0;32m    868\u001B[0m \u001B[38;5;28;01melif\u001B[39;00m \u001B[38;5;28misinstance\u001B[39m(handle, \u001B[38;5;28mstr\u001B[39m):\n\u001B[0;32m    869\u001B[0m     \u001B[38;5;66;03m# Check whether the filename is to be opened in binary mode.\u001B[39;00m\n\u001B[0;32m    870\u001B[0m     \u001B[38;5;66;03m# Binary mode does not support 'encoding' and 'newline'.\u001B[39;00m\n\u001B[0;32m    871\u001B[0m     \u001B[38;5;28;01mif\u001B[39;00m ioargs\u001B[38;5;241m.\u001B[39mencoding \u001B[38;5;129;01mand\u001B[39;00m \u001B[38;5;124m\"\u001B[39m\u001B[38;5;124mb\u001B[39m\u001B[38;5;124m\"\u001B[39m \u001B[38;5;129;01mnot\u001B[39;00m \u001B[38;5;129;01min\u001B[39;00m ioargs\u001B[38;5;241m.\u001B[39mmode:\n\u001B[0;32m    872\u001B[0m         \u001B[38;5;66;03m# Encoding\u001B[39;00m\n\u001B[1;32m--> 873\u001B[0m         handle \u001B[38;5;241m=\u001B[39m \u001B[38;5;28;43mopen\u001B[39;49m\u001B[43m(\u001B[49m\n\u001B[0;32m    874\u001B[0m \u001B[43m            \u001B[49m\u001B[43mhandle\u001B[49m\u001B[43m,\u001B[49m\n\u001B[0;32m    875\u001B[0m \u001B[43m            \u001B[49m\u001B[43mioargs\u001B[49m\u001B[38;5;241;43m.\u001B[39;49m\u001B[43mmode\u001B[49m\u001B[43m,\u001B[49m\n\u001B[0;32m    876\u001B[0m \u001B[43m            \u001B[49m\u001B[43mencoding\u001B[49m\u001B[38;5;241;43m=\u001B[39;49m\u001B[43mioargs\u001B[49m\u001B[38;5;241;43m.\u001B[39;49m\u001B[43mencoding\u001B[49m\u001B[43m,\u001B[49m\n\u001B[0;32m    877\u001B[0m \u001B[43m            \u001B[49m\u001B[43merrors\u001B[49m\u001B[38;5;241;43m=\u001B[39;49m\u001B[43merrors\u001B[49m\u001B[43m,\u001B[49m\n\u001B[0;32m    878\u001B[0m \u001B[43m            \u001B[49m\u001B[43mnewline\u001B[49m\u001B[38;5;241;43m=\u001B[39;49m\u001B[38;5;124;43m\"\u001B[39;49m\u001B[38;5;124;43m\"\u001B[39;49m\u001B[43m,\u001B[49m\n\u001B[0;32m    879\u001B[0m \u001B[43m        \u001B[49m\u001B[43m)\u001B[49m\n\u001B[0;32m    880\u001B[0m     \u001B[38;5;28;01melse\u001B[39;00m:\n\u001B[0;32m    881\u001B[0m         \u001B[38;5;66;03m# Binary mode\u001B[39;00m\n\u001B[0;32m    882\u001B[0m         handle \u001B[38;5;241m=\u001B[39m \u001B[38;5;28mopen\u001B[39m(handle, ioargs\u001B[38;5;241m.\u001B[39mmode)\n",
      "\u001B[1;31mFileNotFoundError\u001B[0m: [Errno 2] No such file or directory: 'CANProtocolMLScanner\\\\ freio_5x_1_logFile 2024\\\\limpador_vel1_5x_jumpy.CSV'"
     ]
    }
   ],
   "execution_count": 8
  },
  {
   "metadata": {
    "ExecuteTime": {
     "end_time": "2024-09-27T13:58:29.075244800Z",
     "start_time": "2024-09-26T16:04:59.163832Z"
    }
   },
   "cell_type": "code",
   "source": [
    "def plot_best_pgns(best_pgns):\n",
    "    \"\"\"\n",
    "    Plota as melhores sequências de PGNs recebidas.\n",
    "\n",
    "    Args:\n",
    "        best_pgns (list): Lista contendo tuplas de PGNs e arrays com as respectivas sequências.\n",
    "    \"\"\"\n",
    "    for pgn, sequence in best_pgns:\n",
    "        plt.figure(figsize=(10, 6))\n",
    "        plt.plot(sequence, label=f\"PGN {pgn}\")\n",
    "        plt.xlabel('Timestep')\n",
    "        plt.ylabel('Valor')\n",
    "        plt.title(f\"Melhor sequência para PGN {pgn}\")\n",
    "        plt.legend()\n",
    "        plt.show()"
   ],
   "id": "ec11a15b6a69cef3",
   "outputs": [],
   "execution_count": 13
  },
  {
   "metadata": {
    "ExecuteTime": {
     "end_time": "2024-09-27T13:58:29.076241400Z",
     "start_time": "2024-09-26T16:04:59.983086Z"
    }
   },
   "cell_type": "code",
   "source": "plot_best_pgns(best_pgns)\n",
   "id": "38dabe5952c959eb",
   "outputs": [
    {
     "ename": "NameError",
     "evalue": "name 'best_pgns' is not defined",
     "output_type": "error",
     "traceback": [
      "\u001B[1;31m---------------------------------------------------------------------------\u001B[0m",
      "\u001B[1;31mNameError\u001B[0m                                 Traceback (most recent call last)",
      "Cell \u001B[1;32mIn[14], line 1\u001B[0m\n\u001B[1;32m----> 1\u001B[0m plot_best_pgns(\u001B[43mbest_pgns\u001B[49m)\n",
      "\u001B[1;31mNameError\u001B[0m: name 'best_pgns' is not defined"
     ]
    }
   ],
   "execution_count": 14
  },
  {
   "metadata": {
    "ExecuteTime": {
     "end_time": "2024-09-27T13:58:29.112493100Z",
     "start_time": "2024-09-12T23:21:10.558155Z"
    }
   },
   "cell_type": "code",
   "source": "",
   "id": "1003cac029a9e57d",
   "outputs": [],
   "execution_count": null
  },
  {
   "metadata": {},
   "cell_type": "code",
   "outputs": [],
   "execution_count": null,
   "source": "",
   "id": "2f41711697ca56f3"
  }
 ],
 "metadata": {
  "kernelspec": {
   "display_name": "Python 3",
   "language": "python",
   "name": "python3"
  },
  "language_info": {
   "codemirror_mode": {
    "name": "ipython",
    "version": 2
   },
   "file_extension": ".py",
   "mimetype": "text/x-python",
   "name": "python",
   "nbconvert_exporter": "python",
   "pygments_lexer": "ipython2",
   "version": "2.7.6"
  }
 },
 "nbformat": 4,
 "nbformat_minor": 5
}
